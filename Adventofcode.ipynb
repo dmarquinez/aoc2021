{
  "nbformat": 4,
  "nbformat_minor": 0,
  "metadata": {
    "colab": {
      "name": "Adventofcode.ipynb",
      "provenance": [],
      "collapsed_sections": [
        "lAKPdfi8dMT1",
        "ZLM0PXrR3Xhu",
        "oItQGeBBco9X",
        "CFZv7dZ8c1kN",
        "x0ckj_C83trk",
        "TssmW1P7c9q8",
        "36v3AfMIc_TU",
        "IG7jZnxydBJZ",
        "1W94321WYqsP",
        "dHeXcZGEYsgz",
        "PjGxo7uGpP-v",
        "NLBlaW3Z7xNL",
        "i7uaEIeF7zWj",
        "ZiPI2J8WlnOu",
        "q9HWILv3lr_r",
        "JZHg20dKltY-",
        "VKitvFDflvYQ"
      ],
      "toc_visible": true,
      "authorship_tag": "ABX9TyMNWoR6GhSM8Tw+x6ZU1Om5",
      "include_colab_link": true
    },
    "kernelspec": {
      "name": "python3",
      "display_name": "Python 3"
    },
    "language_info": {
      "name": "python"
    }
  },
  "cells": [
    {
      "cell_type": "markdown",
      "metadata": {
        "id": "view-in-github",
        "colab_type": "text"
      },
      "source": [
        "<a href=\"https://colab.research.google.com/github/dmarquinez/aoc2021/blob/main/Adventofcode.ipynb\" target=\"_parent\"><img src=\"https://colab.research.google.com/assets/colab-badge.svg\" alt=\"Open In Colab\"/></a>"
      ]
    },
    {
      "cell_type": "code",
      "metadata": {
        "id": "SECkfga21_Cn"
      },
      "source": [
        "import pandas as pd\n",
        "import numpy as np\n",
        "import csv\n",
        "from collections import Counter"
      ],
      "execution_count": 2,
      "outputs": []
    },
    {
      "cell_type": "markdown",
      "metadata": {
        "id": "NEJVhYIFdKrJ"
      },
      "source": [
        "# Inputs"
      ]
    },
    {
      "cell_type": "markdown",
      "metadata": {
        "id": "lAKPdfi8dMT1"
      },
      "source": [
        "## Final input"
      ]
    },
    {
      "cell_type": "code",
      "metadata": {
        "id": "ilOLDjFfgD4d"
      },
      "source": [
        "b = \"\"\"bg gcdaeb aebg efabdcg abdce cafdbe fcbdeg bdacg gbd cafgd | daecb dcbae gb eabg\n",
        "eabfdc fgd cegd aedgf fbacgd dceaf dg aebdcgf efbag edgfac | cgebadf dgce deafc acdbfg\n",
        "dcgfb fe bcgefd adecfb fgdec dfe egadc fadgceb facbgd befg | fdacgb fbcdg dcefbg bcdfg\n",
        "gebdcf eg ecgabd gabed agdfb dbace fgbacde facebd egd gcea | agdbe gde deg agcebd\n",
        "efb fgeacbd efcdb adfe fcdabg cabfd dcebg deafcb cgbfae ef | bgcde adcgbf feb adfe\n",
        "gfdcaeb cdgfa agefc cge cgadfb fegdbc ecda eagbf gdfcae ec | dfbecg degcaf gafcd cge\n",
        "eacbdg gdfb dfcbge cgd egcdf gd bfedc aedcfb fcgea bdafceg | gd gcbefd begadcf gcd\n",
        "gafced dcge ec gafcbde efgca agefb defabc eac cafdg dagbfc | fegba edcbagf efacg eca\n",
        "ebfdc dbfae cbfgd agbecd ced ec dcefbga ecfg fgbdac fbedcg | ce ce cgadfb ecd\n",
        "dgbfe gcbdaf cbegfa gfcda gadfce gbafedc ecg ce cgdfe aecd | efbcgda fbaegc cdae dcae\n",
        "fca gcbfed ecadfbg fbgcda gfbdc cfadb afcbeg fa baced fagd | afc fdcbge af badcfg\n",
        "fdegc defgacb acged gf deacfg cfg fbaecg abcgde dfag befcd | fgc egfdc cdaebg ebgcad\n",
        "afgdbce ebfcd dfbecg bafged bg bcged egcda fabcde bdg fbgc | dbg gbd dgfeab fdebc\n",
        "ecdbfa cage cdaegf dfgea cadbfge dbagfc ea dbfge efa cfdga | ea afe fgcad dgfcab\n",
        "dafge cebf cgebd ecbgadf gbf bf debgf cdgfbe dbgcae gdacbf | defag edbcg becf bgf\n",
        "gdb egfabc dbcfeg fagd gd abcde gdabfe fabge fcabedg debga | gfda bdg gaebf gbd\n",
        "cbdfg fbcdgea ebdc bc cgb egfdb facgd egdfcb fbgade facbeg | gcfbd dbce dcbe fbdceg\n",
        "fg afg agedcb fbdgeac gbfca eacgfd fceab cgabd bfdgac bgdf | bgdf afebgcd dbgafc bdfg\n",
        "fbagced cegfd feabc dfbacg bg eagb bcaefd abegfc gfb ebfcg | gfb gb gbf gdfce\n",
        "dfceba bdcaf decab ea bae acebdfg egabfd bdgec cbadgf efac | dcbeg bdceafg ae abcfd\n",
        "gbfeac deagc geafc efgb agfcdeb dbacgf ecbfa cfg fg edbcaf | cgeda fegb aebfc gf\n",
        "acgbfed cabdef gfbcde abced ca dbafgc adc fcedb feca aebdg | gecfdb caefdb baedcf cgeabfd\n",
        "ed bdge dceagb gafceb dce cgaed bdgecfa gabec fdagc aedbfc | acdeg dce dcbega dfgca\n",
        "ecgdb cbefdg fgbc cfegad cf fce fadeb bdgeac agecfbd fdcbe | fc bgdace cfe edfacg\n",
        "ed fdbgc cfeab adbgfc adgebf ebdcf fgedbc gecd def dcgaebf | dfagbc bagdcf gdce ed\n",
        "bgdfa gefbcd fdceab fe fabde edf caebd acfe deagbc dcbfeag | fe fbgedc abecdg fdebac\n",
        "bafgde cfgba dcbag fcbgae dafc fdgebac da bdcagf gad cgdbe | dfca ad dga fcbgdea\n",
        "abecgd agbec bcfegd gfacbde ca bafced fabeg acb cgbed agdc | gdceb cfdbage afbdgce begac\n",
        "cfb gdafb dfcgba facbde cdefabg egdcf gfcbd cb agbc febgda | cb efbacd agbc cb\n",
        "bdce dgaec dcefga dcaegb fbgae dba db afdbcg fceagbd gdabe | eagbdcf bd febgacd cebd\n",
        "bad fgeab bd agfdce fcadeb agdec edbfgca dcbg bcegda edgba | dbfeac bfecda bfgecda dbgc\n",
        "egcbfad gdfec faced ecdgfb decfga fac fa fdag cfbgae baced | gcfaed aedcfg fadg fa\n",
        "ebfdc gadcfb fcgdea ace abcde ea gecdabf gdcba gbae dacbeg | bfdgac gadcb acbgd ae\n",
        "gcafe abfged egfadbc fbdec dg gdebfc gfedc dbcg fcbead gde | gdbc faegc gde deagbfc\n",
        "decabg gdcfa dfbca cgdefab bdegfa afcdeb bdcea bdf bf becf | aebdfc efbc dfegab bf\n",
        "cdfegb gcdaf fa bfdacge egfa daf gdbac degcf adfecg ebcfda | cedgbaf fdgec afd gadcf\n",
        "gd bcfde adegfc cegbfd gdc dgbe bdgcf gfaebcd cabfg edacfb | daecgf agbcf caebfd cbedaf\n",
        "decbf ebcfg egcaf gfaecb gbf gaeb cadegf ecgfabd agdbfc gb | fgb dfcgae cfbge abfgce\n",
        "bgfed cedgf cegabf gfc fc eagbdc caegd fcad dbaecgf dfceag | fcda efdbg fedgb bfaedcg\n",
        "dcafbg aebdc fgdcb efc fgedca fe gbfe fdbagec cfebd cebdgf | gbef gfcbd cef ef\n",
        "fabdgc cbd db cfgda cfabd eacgdf dagb abefdgc fbeac gdfcbe | bfdca ebdagfc dcb bdag\n",
        "bgdface geabdc edabg aeb agec ea fcagbd acdfbe acdbg bdegf | cbedgaf bgcaed ea abfedc\n",
        "abfeg fedbag fbegc dcgfbae fbgcd ec abefcg eafdcg fec aebc | gabef ec geabf fcgdb\n",
        "gdcbef edfbg cg cafgbd gedc gcefb acfegdb eacbf dbfgea gcb | cgb bfdge gefbc agbfdc\n",
        "gecbfad fdga debagc da bcdgaf abcfd abcfg bad dfebc aefbcg | cbfga dbcaf cfbda fgad\n",
        "cbegdf cdga bfaecg egdfc dfaceg fbedagc dgeaf ga gfa efbda | gcdaef agf fga efdag\n",
        "abd dcaf ad cbgefd abcge ecdbfag cbedf fgbade adebc acdebf | bagec dcfa ad dbaec\n",
        "efcdb cedgaf edfcab dgecb dgbf egd baegc dg efdgbc gbefcda | afcdeb dg cfbdge gcbed\n",
        "bgdfca bgf bfgac gdfc cedabg gabedf fdbagec cebfa gbdac fg | facbg cfagb abcgd edagbc\n",
        "ebagdcf ecgbfa bgadf bdfac cfb cbdgfa ceadb cf dgcf fabdeg | cdfab eagfdb gdfeba fc\n",
        "gbc bc fegac cfgeda gfcba acbe bcegfd abfgd dgaefcb ecbgfa | edfbgc ecab cbfag efagdbc\n",
        "de gacfeb fabce ecgbdf adbef cbgdeaf aced dfe bfadg fcabde | gbdefca daefb cgedfb cead\n",
        "dbf edbfa bedcgfa begafc fdega db cadb facebd fcaeb fdcgbe | bcgfea cbefda fabce cabfe\n",
        "fcb cegbdf fgdeb fcdeb cfdae cgdb cfgabe bc agcbfde aebfdg | gcdb fcb bdefg edfbg\n",
        "gfead fgdcbe egdfacb gacd cdf ecgfda edacf adbgfe dc ebcfa | agdc fdc geacbfd fagdbe\n",
        "gcfabe cefag dafg agecd ad decbg fcedgba cedafg cda ebcfda | aebcfd bfdeagc afecg cgbedaf\n",
        "gcefdb aecbfgd fdegb ga fgcbda eagf aedgb dceba befdga gad | edagfb gad fgae ebgad\n",
        "abdfge gfcea bcdg decabf gadbf cafgd dc cdf cdabgf dfceagb | gfdca bcagdf eagdbf dfc\n",
        "ab dfagbe efbacd fba acfdeg efgad eabdgfc bfgea egcbf adgb | dafgbe gbafe ab dagbcef\n",
        "febgd gbf bf cdebga gdebc bfcedg befc agcedfb cbgafd agfed | bf degaf gcdeb fbg\n",
        "cegdfa db cafegdb decga gbd aedb gecfb bdcgfa cdagbe becdg | agbdefc cadbefg fgbce db\n",
        "gcdfabe fcabg gafdc fbagec bf agbce gbf dcebga feab gcfdbe | cegba fb bdcgefa bgf\n",
        "bfc cedafb bacfg gedcba acdbg dcfbega gdfb acfge bf adbgcf | fb fcb bf dfcbea\n",
        "bdgca fca edfbac gcdf fc cbgeda afbgc afebg fbdgac gfeadbc | bfcdga adbfce gbedca cf\n",
        "cf abdfce fabdg bcdgfa fgcb caebdfg cgdfa ecadg cdf gbedaf | fc acdfbg gcbf cfd\n",
        "dcbea dfgcbe dbefag dcbaf cgfa fa cbgdf bfa begcfda adgfcb | fba abf edcbfg gcbdef\n",
        "gd fgbacd geda dfecb cdg ceagb ecgdb dceafbg afcgeb cdebga | dacfbge efacgb eadg gdcbe\n",
        "dfbcae fe bfcgea cefg fgeab fgdab dgecab fdgeabc eagbc aef | ef fbdcaeg aefcbg efa\n",
        "fdcgb cdeabf gdafcb efcg bfagced fe gfebcd gdbfe feb bgeda | fcgbd fe bdegf gefc\n",
        "cdgaeb gfeabdc dbfg bdc gcadbf fdbac db gcabf cgeafb eafcd | decfa bdfg bfadcg bd\n",
        "fdgea ab eafb dafcge cdbaefg eadbgf edacbg fbdgc gfbad gba | ba ab ab gdbfae\n",
        "bacdfe defab fbeg egfad dfbagce fg febgda gfdbca fga gdaec | dgbfac dcgae bedfa bfeg\n",
        "feadb cbd fgbedac bdceag bcaf aefcdb cb decbf edgcf bfdeag | fabged egdcf fbgdace bfedca\n",
        "cdafe agfedbc gebc aeb fegdba cabgfe cfbea dabcfg eb cbgfa | gacbdf egfbcad cadfe gcbe\n",
        "deg dbecg abdce agcfebd dg defgcb fagecb febgda fcdg ebfgc | debfcg egcbafd cfadbeg cgdf\n",
        "cebfad efc dbcfg gfdcbe cfdgba agfed ec becg dfgec gedbfac | bgfdc fce gfedc gbfadc\n",
        "eabdcf bfcgd gabdfe bacfe bde eadc cbdagfe ebcfd ed afegcb | cdea fcgeba cbfgd bafdeg\n",
        "gcdab bdafge dc aefcdg acbgfd bdfc cdg eagbc gdeacbf fgadb | dfbc gaedfbc bcfd bdcf\n",
        "efdca gced dbagefc afdeg feagbd fce ce dcabf adcegf efcabg | gfebac ecafd adbegfc abfdc\n",
        "bfadcg cgfda bc fbcegd fbac ebagd cagbd egcafbd cbd dfgaec | dbeag cb adgcb abdgfc\n",
        "dgbef gbacf bcde cd degafc dbefag fcd gcdbf bedcfga cebfgd | cd bdcgf ebdc bagcf\n",
        "gc fegdac dgefa cefab bcafdeg decg fcg dafbcg fegbda ecgfa | ceagf cg gfeca cgf\n",
        "fbage cfdaegb dcfgb dbae gefacd de cbagef gfbed deg ebgdfa | fgdace fegcba ed dge\n",
        "geb ebfacg gbeca gcbedf eafb egadc fbcag cfadbg fbecgad eb | fcgab baef bdagcf gfebac\n",
        "egbcaf fcgab gaebdf bf dcfeabg befc aebgc bgf adcgf bgdaec | gbface dcbage fgb abcge\n",
        "bgcdae fdab becadf fa beacd fae gebfc fdeagc acfeb ecabfgd | cfbea fdaebgc afe gfdeca\n",
        "gefc bgadf dcebfa ef gcaebd dcbafeg cgdbef dbcge efd fgbed | acbfde gcbde dbecg fe\n",
        "cadefb degbc degfb dc dfcabeg ced cabeg cbefga adgcbe agdc | efdbac acgd agebdc ecd\n",
        "fcgbea gdfceb eadcb gdef gdbcafe fdc fdbec febgc bcgfda fd | cfd dfcegab dcbfga fd\n",
        "gabdec dgfcea dagbe gf dgf cabgfed bagf befcd bfdage fbdge | gfcabed bfdge fagb abecdgf\n",
        "abc gdcea cgbfad egcfabd eafb gfceb cfaebg fbdegc gecba ba | cab ab efcdbg efcgadb\n",
        "bafdcg gdbaef cf abfc dceag fcg fadgb ebfgdac fdcga ecdgbf | gedfbc gadce adcge fcg\n",
        "afb fadce dafcb ab degfbc abdcefg gabdcf fagbde bdfgc abgc | dfacbeg ebdagf afb acfdb\n",
        "cfaedb dce edgcbaf bgdfc dcefb ce cbea fdgaec aebfd fgadeb | ced acgdef dfeagbc ce\n",
        "egfcdb cdfgbea cgafb efgd gcdbae ecdabf bcdge df bfd fcdbg | cdebg df bfd dfebcg\n",
        "gbecdfa ce ebacd dgafbc bec dfabc baedg bgacfe efdc fdbeca | cfdba ecb ec bgecfa\n",
        "cadfbe bfgdeac gdeab ebfcg degfb dfag edf degabf gcebad fd | fgbed abcfde becgf begdf\n",
        "fgd egdbf fgbce gcbaed dabeg dafe fd cagbefd bgedaf abfcdg | fadbgc df dfea adebfg\n",
        "fdb gcadbfe fd acbde gdcf cfgbe gfbcde bdfec gabcfe ebagdf | dgfebc dgcf bfgec fcbgdea\n",
        "dgcbf daegfcb ec cfae dbcega cge gbaecf fgbce fagedb befag | fcgbae cbgedaf bcfega fcae\n",
        "cbadge eg dbecgf edbgf dcabef gecf fgbad ebg edbcf adcbfge | egb eafdbc geb bdfga\n",
        "afebg gfcaeb bgfdce cfea af bgade fba bcefg edfgcab cadgbf | ebcfg cfageb gdbae egabd\n",
        "agfdc fegb badfg fbcdgea dfbaec gdeab eafdgb abf bf cdaegb | gadbe cbdfae gdafeb gdabef\n",
        "cgdeba gadcbf gebca ad afegbdc acgbfe gcade fegcd dac bdea | ebgcad becgda cad dac\n",
        "becafdg gd cdg cgebfd efbcg cbaed febgac becdg bdfg ecfgda | cbgfe gd adcbe efdcagb\n",
        "efcb aebgfd aecdfgb gdcaf bfa bf aecfgb cadebg gbfac ceabg | bcfe fb bf fcbe\n",
        "bgaf bgedcfa ecdbfa cgfea gea baefc ag cgdfe gdcaeb ecfbga | gea ebcaf gfecd ega\n",
        "adfegb degcb dgb bg adgfceb cdeagf acged gdecab abcg cfdbe | gedac gfbdace becgd ebgacd\n",
        "af fgcdba bgecf bcfage dgcfeba cfa ebfa cegfbd fecag edgca | bgfaced fa fa cbgef\n",
        "egbfcda deacb gfdacb fdcabe bgedc ae fade afbcd gfcaeb bae | ea bcaedfg gcaefb deaf\n",
        "feagd becafg ebca eb geb cdafgb feabg faegcbd cebgdf bcagf | afcbeg afgcb facbgd fgdea\n",
        "cdbfea efagd bafegc deb dgaecb dbgae db ecagdbf dbgc ecabg | gdaeb bdcg aegdcb agefd\n",
        "abe cdbgafe cabef befgc fbadce ba facgde adfce bacged badf | abcedg adefc bfad bfda\n",
        "beafc efdabc fbdgae dcaegbf beadc adcgb ecabfg decf de dea | egbdfa fedc febca fcabe\n",
        "bd dbeg dcbfeg cgfad dfbgc ebcgf bgecaf cfadeb fbd abfdgce | deagcfb gfdca fbgec decbfg\n",
        "febadgc df gecfa cebad fdeac fad gadebf dbfc eacdgb cfeadb | bafdcge afcdgeb cdgaebf fda\n",
        "cgedabf debfga gfe fg gfba gacfed dfbeg bdfea dbcefa bdgec | dceagfb ebdfa dbfeg fadeb\n",
        "egafcb cg ceg ebgcfad dacbef afedg gcbdea bcfae cefag gbcf | gdfea egc ecgaf fdgbcea\n",
        "egfba adecfb gc cfg cfdbeg gdac eafgcd dfcea cgefa bfaecgd | gc aecdbf cgf dcbegf\n",
        "abcfde eafbd dagfebc bgea aefdg dga dgbfac faebgd edcfg ga | eabg eabcgfd abeg deacbfg\n",
        "ac fbgeda begcfa decgf gfcbad eagcbdf gbaef eabc gac egcaf | eafdgbc fgabdc agc cagfe\n",
        "abdfg gefba ecafb eg egf febcdag egac beagfc edgcfb acbdfe | bcafed gfe eg febdgc\n",
        "fgcba bge efgcab bfgae adbecg fcge defgcba bedfa abgcfd eg | ge abdef badef gfcdeab\n",
        "gdecbf fcbdae acedf acfb cdbae cgdeba fc gafed fgacdbe ecf | bacf bdaecg cebad cfgdbea\n",
        "abfcde fa afd degba cdgbeaf bafed eadcgf cbaf bdcfe cedbgf | dgbae bfedc fcba aedgbfc\n",
        "egfadc ec ecbf abgcd gfdbae eac abedf fegacdb bcedfa cdbae | ce cdbga ceabd beagdf\n",
        "bdcae bfc fb bfcdeg ebacgd aecfgdb bfdcea acdfg cbadf baef | cfbdae fbc abgedc fcb\n",
        "bf afged adbegc ebfc gbadfce bdf fbcdeg bdcge efgdb fbadgc | cfeb ebcfgad febgcda fbd\n",
        "fbeda dfega bf becda fba dfcb cagbed abfdec cfagbe aebdcfg | bdcf eacbd abdecg ebafdc\n",
        "baecfd dg gbdc edagb bdaec ebgaf bcefadg dge eagcbd acgfde | deg dg deg bdacef\n",
        "degabf gdbef cedg bgfcd dfacegb dcb dbgfec fcagb cedabf dc | gecd bdc gbedf acbfg\n",
        "efdag ce cabe bcfdga egcad gcbad bdagce cde cdfebga dfgecb | agdec cde dagce cgade\n",
        "adbgc bgecd ebdgcf dgafbce abcefg gefdab ec edcf dgfbe ebc | geabdfc edagbf efdc ec\n",
        "deagf bdcf dgc fbegcd deabcfg cd edfgc aebgcd fecgab efcgb | gcefbd fbdc edcfbg efgbc\n",
        "fbgedc bacged egbacf cbf gaecb fc fdcbeag ecaf cbgaf agdbf | cfagb bgacf eacbgd fgbca\n",
        "abdeg gdcea bdfega fgadb eb bgfe aecdfb facbdg gdebfca abe | aeb efacdgb eba be\n",
        "fcdgab cbgfa gc gfdc bcg fageb cbfgdea cgaebd fcdab dceafb | fcabg gc cfdg bcadfe\n",
        "dfgcb ebgadc efb ecgba becfg feagbd cgebaf ceaf cgfbdea fe | fe bfe bef fcbgd\n",
        "fabde cbdg gcbae fegbac acfgde edgab bedgacf deg cdbega gd | dcgb cgfeda eafdb egd\n",
        "gfac bcaegf cf fcb ebcda edcbgaf dgfbce agfeb geafdb cabfe | ecadb fc ebadgf efcba\n",
        "fbgcad bfcae cf afbeg dcfe cbf cbgaed ceadb bcedaf fabcged | adfegbc fbc ceabd fc\n",
        "dabf dacbg fgabc db cgdafeb eacbgf cgfdba bgd dgcae gdfceb | bacegf cbgfed bd bd\n",
        "dfec dgcabe cf bfdca fgadbce bfceag edabc fcb fdabg bcfeda | fbc bdfga efdc cbefag\n",
        "edcbga fcagb gb dagcef fgeb egcfa dfbagec agb gcfeab dcfba | bcdefag ceagbfd efbg fecga\n",
        "eacdgf cb ebc afgecb dbeaf cbfea ebfcdga edfgcb egafc acgb | efbad cebaf deafb aedbf\n",
        "gedba fegdbc dgf deafg gceadf afcdeb gfca fg eadfc dbcfgea | gdacfbe gf faecbd egfad\n",
        "fe gef adebgc fcde eadgc gfcaed bfcga gafce bdgcfea fbgeda | dabfge cefd afdgce feg\n",
        "gafd feadbc cfbage ceabdgf edgcb acgbf ad fbadgc acdgb adb | ecbafd cdabg abd bad\n",
        "gea defga egdc dafbg fbadec fbcega aedcf ge cgafde cabdfge | ge fdceag efcad cdbfea\n",
        "gecdbfa bgdfca cdbfa ecdfba dgfca cbag ga ebdagf fdgec gaf | fgcdeab bcedaf gbca cgab\n",
        "defcgb edcfg gcadf fac dgfcae bgafec cfagebd aced ac afdgb | afdcg dgfce fcegbad ac\n",
        "eab cfdega ab bfgaec gbdfeca gdeca dfecb abgedc ebacd badg | gcafbed ecdagf bcfgade ba\n",
        "cbd acdfbg bgefda cb fgedbc acfb bafdegc dgafb dbacg gaedc | bc baefgd gbdefa cb\n",
        "edc gfead edgbfa efbca dc dcgbafe dcgf aecfd gafdce bdcgea | bfeca fbaec bfaec fdaec\n",
        "dagef efgcbad gcbd ebagfc db eafcbd efcgb deb bedfg cfedgb | cgadbef bd dgacbfe befgd\n",
        "gcefbad cebgaf efcgb bdge bdafc cdfgea de dfe bfdgec cebfd | dfecb de fdebc fde\n",
        "fe aef cgbea dbfcga dfagce cbafed cebagdf cgeaf afcdg efgd | fadbce fe aegdcf ef\n",
        "adbgf dcbfae cebgdaf bf gafde gdcba cdaegb fab gcbf dbcafg | adbgf gbedacf afb gcbaefd\n",
        "cfagb geb dagbcf edbfa egdfacb efgba fcbeag eadcbg gecf eg | ge cfeg bafde afdbe\n",
        "ge bfedca adgbf dfceb dfgaec egfbd gfcdbe fcgedba gebc ged | fcbde cgdafeb cdfaebg eg\n",
        "cdebaf cgdefb fdbcega bdaf fgecad afc af abefc acgeb bcfde | abfd fbad fdecb geabc\n",
        "edfga dcagb afgcbd facb dbegcf fb bgf gfcbdae gabfd cegadb | fbdcga fbdga fb gfb\n",
        "dcegba dfb adbec cdbafe df fcbeg dbfce dfabcg edfa cbedafg | fd efgcb cbafed dagceb\n",
        "afcbe cfa agbef bfgacd cf cgef cbgeafd aefbgc gefbad abcde | gfcabde afc fca fabgde\n",
        "bacdge dfbc bc ecgfdab edgbcf cgafde gbaef cgefb ecb edfcg | bgdcef bgedafc cdaebgf cbfd\n",
        "egdc cbdgfa def dcafe de dcgaf abefc dbaegf fdgcea ebgacfd | edgc gbcedaf fgcaed geadcfb\n",
        "dbac bfdge cgb bcgde cb gbfdcea acfebg bdcgea adecfg edgca | dgeac feabcg aegcd gcb\n",
        "dcbeg dcgef acdfg efabgcd dfaceb efgb fbcdge aegbcd ef efd | dfbcge bgef gcdef cfdag\n",
        "dfgb gfc afcde egbcd cfgde cdbegf agbecf gf bcdeag fgdebca | becgd gf edgabc dfcabge\n",
        "cd bdaefg cabfed cdgfbae bgceda eadbg egdc cabgd bcd fagbc | dbgac fedacb edbfacg dgce\n",
        "acde faegd dfa bgeaf efacgd fbagcd da bcaefdg ecdgf febdgc | dfegc dgbcef adf cedfag\n",
        "fag cbafe ecbfag gcbdf edfcba cgea bagefd agdcefb ag bagcf | fcabg ebagcf gdcfb egfbda\n",
        "badf fgdbace gfced fdcea efacbd ade bcfeag ad cabef dacgbe | afbd edgcf fabd fagebc\n",
        "ac cfdabge bgac gfade fdbgc dac dbcfge dgcfa dcgfba fbdcae | cbagdf geadf dbcagf adc\n",
        "dcgba dc gadfeb fcdg baedcf aegbc dbacgf eagbfdc bdc gbdaf | abgcd cbd gbfad gbcea\n",
        "bfagec fcbeg ce dfagcb bfcade ebc dfegb acgdbfe gcae agcbf | gcae afdgbec bfagc ebagfcd\n",
        "bgacf gfdabc abgcef fdab cdbag decbg geadcf ebfacdg ad cad | bcaefg cgbdaf bgcaefd agbcf\n",
        "fbadeg gbe dgcbea gb bcgd bdecgaf agecb cegda cefadg bacef | aedgc cgdb aegcd agdcef\n",
        "gbecdf aefg eg gec bcefa gcbad egcba cefbad fecgab badfecg | ge afbec edfcba agcfdbe\n",
        "fbga cedbf ba ebagdf baegdfc aeb bagced gfcdea bfead afged | gdafce ba eba efcdgab\n",
        "beafdc bca defac ab edfcga edcbg cabed bacgdfe gbadcf eabf | cfdage cafbde efcbda cdgeaf\n",
        "efg agfcde abgfd efbc cdebg febgd ef cdgbae fegbdc befgcad | ef efbc dfgba fge\n",
        "acgfb eabgc cfdab fg afg gcef gfdbea becfag beafdcg gebcda | fgec gefc agbefc cgfdeba\n",
        "adfeg cgdfeab feba fgeabd dgabe egbcfd aebgdc def cgdaf ef | febgda adfgc bgdcea gadfe\n",
        "cgabf bcg bfgd edbcgaf acegf adbefc ebadcg bg cdbfa cbfdga | eadcbf deagfbc fcage dfbgac\n",
        "dge ceabdg fdbce cedgb acfdgb cbdagfe gdabc gabe fdaceg ge | eg gde cdebf abecdg\n",
        "cdage eagcf ade gebcaf faecgd gcbed abdfeg cdaf ad degbcfa | bdgec aegcd adcgbfe feacbg\n",
        "debg gec dbfegca ge acdeb acgfd abegfc bcadge eadgc efdacb | cfdbae ge cgabef dgafc\n",
        "gcfabe ed adcgf febac bgdfea dfaec deafcb acfbegd dcbe ade | fcgda dea fcdag de\n",
        "bdfecg adgbefc dfbeg dabecf agefd gdba ad dfa faecg beadfg | cgfabed abdg cfdgbae adefbc\n",
        "cdbge cbaegd cde afcdbg cbadegf efgadc agdcb fgcbe ed daeb | ecd ecd dcgeab dbcge\n",
        "ebcg fbgae fbaec cefbgda ecf bdfac efbadg gfceda cfbage ec | cfdage ec caebgf cgeb\n",
        "cgfbead fed fgecda dfeagb ecfg efcda cfbda fe dcbgae edacg | fedac efd ceadg cgdae\n",
        "dgbae acbfedg acbe ceagd gacebd dgbefc cadfg ecg fdbaeg ec | dgfbae ec fedbcag abec\n",
        "ecbgadf ab afbe fgcba fgcead bgfaec cgafe dgabec dfcgb abg | bafe bfea cgbdea ba\n",
        "cf dfbce dfc befda abdefcg gaebdc dfacbg cefg gbdec fgbedc | cdf cabgdf cfdabg bgecd\n",
        "gbadef bcfd gabedfc bd cbfag fegbac gcdab gafbdc dgeac bgd | db dbaegf gaebfd cgaed\n",
        "ebgafc ecg agfcd ecab dbfgea eagcbfd edcbgf bgaef ce acegf | egbfa bcgfaed abec ce\n",
        "acdfbg afgdb ea bea ebgda agecfbd bcgde cfgeab aefd defgba | agbed ae fgbaed defa\n",
        "gcebadf ed bafce bgcfad daefb bfadg aefbgd fgcdeb daeg ebd | cdgfba ecbfdg edbaf gade\"\"\""
      ],
      "execution_count": 3,
      "outputs": []
    },
    {
      "cell_type": "markdown",
      "metadata": {
        "id": "ZLM0PXrR3Xhu"
      },
      "source": [
        "## Input test"
      ]
    },
    {
      "cell_type": "code",
      "metadata": {
        "id": "zyB-DJWTmmb5"
      },
      "source": [
        "a=\"\"\"be cfbegad cbdgef fgaecd cgeb fdcge agebfd fecdb fabcd edb |\n",
        "fdgacbe cefdb cefbgd gcbe\n",
        "edbfga begcd cbg gc gcadebf fbgde acbgfd abcde gfcbed gfec |\n",
        "fcgedb cgb dgebacf gc\n",
        "fgaebd cg bdaec gdafb agbcfd gdcbef bgcad gfac gcb cdgabef |\n",
        "cg cg fdcagb cbg\n",
        "fbegcd cbd adcefb dageb afcb bc aefdc ecdab fgdeca fcdbega |\n",
        "efabcd cedba gadfec cb\n",
        "aecbfdg fbg gf bafeg dbefa fcge gcbea fcaegb dgceab fcbdga |\n",
        "gecf egdcabf bgf bfgea\n",
        "fgeab ca afcebg bdacfeg cfaedg gcfdb baec bfadeg bafgc acf |\n",
        "gebdcfa ecba ca fadegcb\n",
        "dbcfg fgd bdegcaf fgec aegbdf ecdfab fbedc dacgb gdcebf gf |\n",
        "cefg dcbef fcge gbcadfe\n",
        "bdfegc cbegaf gecbf dfcage bdacg ed bedf ced adcbefg gebcd |\n",
        "ed bcgafe cdgba cbgef\n",
        "egadfb cdbfeg cegd fecab cgb gbdefca cg fgcdab egfdb bfceg |\n",
        "gbdfcae bgc cg cgb\n",
        "gcafb gcf dcaebfg ecagb gf abcdeg gaef cafbge fdbac fegbdc |\n",
        "fgae cfgab fg bagce\"\"\""
      ],
      "execution_count": 4,
      "outputs": []
    },
    {
      "cell_type": "code",
      "metadata": {
        "colab": {
          "base_uri": "https://localhost:8080/"
        },
        "id": "YngrQowm4QHP",
        "outputId": "7d948bc1-fc6d-4ee5-d7b0-6d8bc08b3665"
      },
      "source": [
        "with open('inputtest1.csv', newline='') as f:\n",
        "    reader = csv.reader(f)\n",
        "    data = list(reader)\n",
        "a = [row[0] for row in data]\n",
        "print(a)\n",
        "with open('input1.csv', newline='') as f:\n",
        "    reader = csv.reader(f)\n",
        "    data = list(reader)\n",
        "b = [row[0] for row in data]\n",
        "print(b)"
      ],
      "execution_count": 28,
      "outputs": [
        {
          "output_type": "stream",
          "name": "stdout",
          "text": [
            "['199', '200', '208', '210', '200', '207', '240', '269', '260', '263']\n",
            "['193', '195', '204', '208', '219', '230', '231', '233', '234', '241', '253', '260', '261', '265', '268', '279', '277', '297', '299', '300', '306', '308', '312', '313', '329', '349', '361', '362', '369', '371', '373', '378', '380', '382', '383', '382', '384', '385', '386', '388', '417', '419', '424', '429', '435', '438', '439', '454', '468', '498', '504', '510', '512', '514', '518', '526', '528', '533', '555', '561', '565', '585', '590', '617', '633', '635', '640', '641', '652', '653', '657', '659', '673', '690', '696', '690', '691', '712', '718', '708', '711', '723', '733', '734', '736', '739', '738', '739', '761', '764', '767', '768', '774', '779', '791', '797', '800', '804', '807', '810', '811', '810', '812', '814', '813', '817', '827', '824', '847', '848', '850', '852', '880', '882', '892', '896', '898', '899', '900', '906', '921', '933', '935', '937', '935', '937', '944', '951', '955', '963', '964', '979', '981', '985', '996', '997', '998', '1005', '1009', '1011', '1015', '1019', '1021', '1022', '1006', '1009', '1017', '1018', '1019', '1022', '1028', '1022', '1023', '1043', '1046', '1047', '1053', '1054', '1078', '1079', '1091', '1111', '1115', '1119', '1127', '1128', '1129', '1130', '1147', '1160', '1161', '1176', '1177', '1171', '1183', '1189', '1190', '1191', '1193', '1195', '1201', '1203', '1215', '1219', '1229', '1222', '1206', '1212', '1232', '1235', '1242', '1257', '1258', '1261', '1267', '1269', '1267', '1265', '1267', '1273', '1275', '1278', '1282', '1285', '1288', '1306', '1330', '1345', '1354', '1355', '1358', '1360', '1358', '1367', '1368', '1366', '1363', '1365', '1366', '1367', '1369', '1371', '1374', '1377', '1378', '1381', '1382', '1387', '1400', '1421', '1425', '1445', '1459', '1461', '1463', '1483', '1487', '1488', '1490', '1491', '1493', '1531', '1544', '1546', '1548', '1549', '1556', '1559', '1563', '1544', '1558', '1577', '1590', '1592', '1599', '1596', '1599', '1617', '1621', '1623', '1624', '1627', '1628', '1631', '1634', '1666', '1696', '1697', '1700', '1699', '1710', '1715', '1717', '1720', '1730', '1726', '1727', '1741', '1739', '1745', '1751', '1754', '1763', '1765', '1767', '1792', '1797', '1798', '1814', '1838', '1852', '1858', '1884', '1889', '1898', '1899', '1898', '1907', '1908', '1921', '1922', '1942', '1944', '1954', '1956', '1961', '1967', '1971', '1972', '1973', '1995', '2021', '2027', '2039', '2045', '2043', '2044', '2048', '2055', '2056', '2058', '2083', '2086', '2093', '2106', '2107', '2110', '2112', '2118', '2121', '2133', '2139', '2146', '2150', '2155', '2160', '2164', '2165', '2166', '2160', '2159', '2158', '2164', '2175', '2179', '2186', '2191', '2192', '2196', '2187', '2207', '2214', '2222', '2223', '2225', '2229', '2231', '2228', '2229', '2230', '2233', '2236', '2238', '2241', '2245', '2225', '2229', '2231', '2235', '2237', '2240', '2243', '2245', '2246', '2249', '2250', '2251', '2256', '2259', '2271', '2272', '2273', '2268', '2269', '2270', '2275', '2272', '2273', '2275', '2276', '2282', '2285', '2289', '2300', '2306', '2337', '2338', '2359', '2353', '2354', '2357', '2364', '2370', '2359', '2360', '2361', '2373', '2384', '2398', '2399', '2395', '2403', '2406', '2408', '2414', '2415', '2420', '2419', '2427', '2443', '2455', '2457', '2477', '2479', '2487', '2488', '2491', '2493', '2496', '2505', '2511', '2513', '2514', '2517', '2546', '2530', '2532', '2533', '2537', '2541', '2542', '2541', '2567', '2576', '2592', '2611', '2616', '2622', '2640', '2665', '2679', '2687', '2693', '2699', '2706', '2715', '2721', '2742', '2739', '2756', '2762', '2771', '2772', '2773', '2770', '2788', '2789', '2798', '2799', '2800', '2801', '2800', '2803', '2807', '2808', '2812', '2815', '2848', '2854', '2855', '2857', '2858', '2868', '2870', '2884', '2888', '2890', '2900', '2901', '2909', '2912', '2918', '2919', '2925', '2939', '2942', '2956', '2963', '2967', '2968', '2972', '2986', '2998', '3001', '3023', '3037', '3047', '3050', '3054', '3062', '3065', '3064', '3066', '3067', '3068', '3082', '3084', '3090', '3097', '3099', '3098', '3094', '3078', '3081', '3083', '3085', '3068', '3076', '3077', '3078', '3080', '3086', '3090', '3102', '3107', '3111', '3114', '3119', '3124', '3125', '3126', '3127', '3131', '3135', '3137', '3138', '3139', '3143', '3173', '3190', '3191', '3192', '3194', '3198', '3199', '3200', '3194', '3196', '3220', '3222', '3223', '3210', '3213', '3214', '3218', '3232', '3243', '3251', '3266', '3267', '3266', '3270', '3273', '3275', '3278', '3283', '3300', '3306', '3307', '3326', '3329', '3332', '3333', '3334', '3340', '3343', '3345', '3359', '3361', '3362', '3373', '3378', '3379', '3380', '3383', '3386', '3409', '3422', '3431', '3433', '3434', '3438', '3454', '3479', '3481', '3490', '3503', '3511', '3516', '3503', '3505', '3530', '3527', '3529', '3532', '3553', '3556', '3557', '3562', '3571', '3572', '3574', '3575', '3584', '3602', '3603', '3606', '3597', '3624', '3644', '3669', '3670', '3676', '3690', '3713', '3714', '3741', '3743', '3725', '3745', '3749', '3758', '3759', '3775', '3796', '3798', '3799', '3805', '3817', '3818', '3829', '3869', '3886', '3881', '3882', '3887', '3888', '3907', '3902', '3901', '3922', '3920', '3897', '3890', '3920', '3937', '3947', '3949', '3953', '3967', '3976', '3977', '3988', '3998', '3999', '4004', '4009', '3973', '3975', '3988', '3990', '3994', '4001', '4005', '4016', '4017', '4018', '4027', '4028', '4023', '4029', '4000', '4001', '4002', '4009', '4010', '4013', '4014', '4029', '4032', '4034', '4039', '4040', '4050', '4055', '4050', '4055', '4058', '4059', '4061', '4064', '4080', '4082', '4081', '4082', '4084', '4085', '4088', '4090', '4091', '4109', '4118', '4119', '4140', '4145', '4150', '4151', '4147', '4150', '4156', '4175', '4177', '4178', '4181', '4182', '4183', '4191', '4190', '4191', '4223', '4225', '4233', '4263', '4270', '4277', '4280', '4302', '4304', '4316', '4319', '4320', '4312', '4320', '4321', '4356', '4354', '4355', '4361', '4374', '4402', '4384', '4389', '4390', '4392', '4390', '4402', '4408', '4409', '4449', '4453', '4454', '4462', '4464', '4465', '4467', '4469', '4470', '4472', '4474', '4473', '4474', '4478', '4490', '4493', '4495', '4503', '4506', '4509', '4512', '4524', '4525', '4526', '4541', '4557', '4558', '4559', '4560', '4561', '4568', '4583', '4584', '4587', '4589', '4598', '4603', '4606', '4607', '4610', '4611', '4612', '4627', '4630', '4653', '4656', '4657', '4659', '4660', '4682', '4684', '4683', '4684', '4685', '4686', '4691', '4692', '4701', '4702', '4706', '4713', '4714', '4745', '4772', '4773', '4781', '4783', '4802', '4807', '4812', '4815', '4821', '4823', '4825', '4831', '4832', '4847', '4848', '4849', '4850', '4858', '4857', '4858', '4874', '4852', '4858', '4869', '4882', '4884', '4886', '4896', '4887', '4888', '4893', '4903', '4907', '4909', '4905', '4915', '4940', '4944', '4961', '4967', '4968', '4960', '4983', '4987', '4986', '4988', '4991', '4993', '4983', '4985', '4987', '4989', '4993', '4994', '4967', '4980', '4975', '4980', '4999', '5000', '5001', '5003', '5005', '5007', '5016', '5024', '5026', '5027', '5028', '5029', '5030', '5045', '5055', '5056', '5066', '5064', '5081', '5083', '5084', '5090', '5061', '5063', '5069', '5091', '5102', '5103', '5106', '5116', '5123', '5141', '5146', '5149', '5150', '5167', '5168', '5170', '5171', '5182', '5181', '5185', '5186', '5191', '5195', '5213', '5232', '5233', '5242', '5251', '5266', '5270', '5268', '5269', '5284', '5290', '5294', '5300', '5302', '5303', '5304', '5332', '5335', '5329', '5332', '5334', '5343', '5346', '5356', '5357', '5363', '5365', '5366', '5367', '5373', '5377', '5384', '5394', '5395', '5392', '5403', '5405', '5394', '5399', '5401', '5412', '5413', '5416', '5418', '5424', '5429', '5402', '5408', '5418', '5420', '5428', '5430', '5437', '5438', '5442', '5444', '5474', '5486', '5488', '5501', '5514', '5520', '5519', '5522', '5547', '5551', '5553', '5557', '5558', '5581', '5583', '5587', '5572', '5575', '5574', '5575', '5578', '5593', '5595', '5596', '5597', '5606', '5612', '5613', '5623', '5624', '5636', '5637', '5646', '5671', '5675', '5680', '5691', '5693', '5720', '5721', '5733', '5738', '5750', '5729', '5730', '5731', '5732', '5734', '5729', '5748', '5750', '5751', '5753', '5756', '5761', '5768', '5771', '5775', '5777', '5791', '5793', '5795', '5798', '5795', '5808', '5809', '5810', '5812', '5813', '5820', '5821', '5824', '5854', '5868', '5869', '5874', '5880', '5886', '5887', '5908', '5909', '5918', '5926', '5931', '5941', '5957', '5967', '5960', '5961', '5958', '5971', '5973', '5975', '5976', '5978', '5979', '5986', '5991', '5994', '5977', '5982', '5983', '5987', '5989', '6013', '6012', '6019', '6022', '6033', '6034', '6037', '6038', '6066', '6068', '6073', '6075', '6077', '6082', '6094', '6108', '6109', '6111', '6113', '6116', '6117', '6121', '6122', '6124', '6129', '6132', '6140', '6141', '6153', '6164', '6185', '6183', '6197', '6198', '6196', '6203', '6204', '6224', '6227', '6230', '6231', '6240', '6257', '6259', '6261', '6280', '6288', '6290', '6291', '6293', '6304', '6306', '6308', '6310', '6316', '6319', '6334', '6335', '6336', '6337', '6345', '6346', '6347', '6350', '6353', '6356', '6364', '6369', '6374', '6380', '6384', '6403', '6410', '6411', '6415', '6416', '6417', '6419', '6420', '6433', '6437', '6443', '6454', '6455', '6458', '6481', '6492', '6496', '6517', '6527', '6532', '6547', '6548', '6552', '6560', '6553', '6568', '6572', '6574', '6575', '6571', '6576', '6580', '6596', '6597', '6624', '6628', '6629', '6642', '6645', '6629', '6634', '6640', '6645', '6646', '6655', '6661', '6673', '6680', '6683', '6674', '6679', '6690', '6691', '6692', '6707', '6713', '6714', '6721', '6741', '6746', '6762', '6766', '6767', '6773', '6784', '6785', '6786', '6790', '6791', '6792', '6824', '6828', '6833', '6835', '6836', '6837', '6838', '6826', '6829', '6864', '6876', '6877', '6878', '6880', '6882', '6883', '6889', '6900', '6901', '6938', '6939', '6943', '6949', '6955', '6959', '6961', '6962', '6965', '6967', '6968', '6969', '6983', '6989', '6997', '6998', '7002', '6981', '6995', '6997', '7005', '7023', '7026', '7036', '7041', '7043', '7052', '7067', '7068', '7069', '7079', '7088', '7098', '7111', '7109', '7119', '7120', '7121', '7129', '7130', '7142', '7144', '7141', '7145', '7150', '7151', '7173', '7179', '7180', '7182', '7191', '7205', '7207', '7209', '7218', '7229', '7239', '7241', '7243', '7271', '7265', '7267', '7269', '7272', '7274', '7276', '7305', '7306', '7307', '7308', '7311', '7313', '7316', '7318', '7320', '7322', '7340', '7343', '7344', '7354', '7360', '7367', '7370', '7371', '7372', '7389', '7391', '7392', '7399', '7418', '7400', '7403', '7404', '7405', '7406', '7411', '7395', '7402', '7417', '7419', '7420', '7424', '7426', '7427', '7414', '7412', '7413', '7417', '7420', '7421', '7422', '7449', '7454', '7459', '7462', '7464', '7463', '7464', '7466', '7481', '7486', '7485', '7487', '7488', '7489', '7494', '7509', '7526', '7529', '7530', '7531', '7538', '7541', '7547', '7550', '7554', '7561', '7562', '7563', '7564', '7566', '7574', '7576', '7577', '7578', '7581', '7609', '7623', '7626', '7627', '7630', '7631', '7653', '7654', '7657', '7658', '7659', '7662', '7664', '7674', '7675', '7677', '7676', '7694', '7696', '7711', '7734', '7735', '7742', '7746', '7749', '7753', '7759', '7760', '7767', '7781', '7805', '7807', '7808', '7826', '7843', '7844', '7845', '7853', '7870', '7871', '7872', '7875', '7876', '7887', '7895', '7896', '7913', '7914', '7916', '7929', '7933', '7935', '7928', '7929', '7930', '7933', '7949', '7976', '7977', '7978', '7998', '7999', '8002', '8010', '8011', '8012', '8015', '8016', '8023', '8028', '8029', '8031', '8035', '8036', '8037', '8056', '8057', '8062', '8067', '8081', '8082', '8096', '8099', '8116', '8121', '8125', '8126', '8128', '8129', '8132', '8119', '8129', '8151', '8181', '8161', '8163', '8184', '8186', '8191', '8192', '8197', '8186', '8184', '8194', '8216', '8219', '8220', '8221', '8223', '8239', '8240', '8241', '8246', '8273', '8274', '8283', '8284', '8285', '8293', '8294', '8300', '8303', '8305', '8336', '8340', '8344', '8347', '8348', '8349', '8356', '8363', '8361', '8362', '8364', '8365', '8383', '8389', '8390', '8405', '8406', '8404', '8410', '8411', '8412', '8413', '8414', '8419', '8422', '8425', '8428', '8448', '8449', '8453', '8464', '8466', '8468', '8469', '8470', '8478', '8483', '8477', '8488', '8489', '8493', '8510', '8520', '8533', '8545', '8547', '8562', '8560', '8555', '8557', '8558', '8559', '8581', '8577', '8578', '8579', '8582', '8590', '8591', '8569', '8570', '8569', '8570', '8573', '8578', '8561', '8558', '8563', '8564', '8575', '8580', '8582', '8593', '8596', '8585', '8588', '8598', '8612', '8613', '8622', '8629', '8639', '8640', '8647', '8655', '8656', '8657', '8671', '8672', '8683', '8690', '8691', '8694', '8693', '8698', '8706', '8713', '8714', '8716', '8718', '8736', '8733', '8741', '8731', '8736', '8737', '8738', '8746', '8747', '8746', '8749', '8761', '8762', '8780', '8784', '8785', '8791', '8793', '8797', '8807', '8818', '8836', '8837', '8838', '8845', '8846', '8849', '8857', '8858', '8877', '8876', '8875', '8883', '8887', '8888', '8892', '8895', '8901', '8915', '8916', '8915', '8921', '8929', '8935', '8944', '8981', '8985', '8990', '8991', '9001', '8995', '8998', '9001', '9002', '9003', '9026', '9036', '9047', '9070', '9080', '9083', '9089', '9098', '9118', '9135', '9123', '9127', '9131', '9117', '9123', '9124', '9131', '9136', '9139', '9141', '9144', '9149', '9156', '9157', '9160', '9163', '9168', '9170', '9177', '9179', '9199', '9200', '9211', '9212', '9222', '9224', '9211', '9224', '9246', '9252', '9277', '9294', '9301', '9302', '9310', '9311', '9313', '9316', '9319', '9320', '9321', '9322', '9323', '9324', '9337', '9340', '9357', '9378', '9379', '9381', '9397', '9398', '9399', '9400', '9405', '9407', '9421', '9437', '9438', '9442', '9440', '9453', '9458', '9459', '9463', '9464', '9465', '9464', '9465', '9468', '9478', '9496', '9498', '9499', '9504', '9509', '9525', '9522', '9523', '9527', '9531', '9533', '9537', '9533', '9546', '9547', '9570', '9576', '9577', '9586', '9604', '9607', '9618', '9621', '9643', '9657', '9665', '9666', '9667', '9668', '9678', '9679', '9680', '9684', '9694', '9697', '9694', '9700', '9705', '9706', '9708', '9728', '9729', '9730', '9732', '9737', '9744', '9745', '9758', '9774', '9776', '9774', '9771', '9776', '9777', '9779', '9780', '9781', '9799', '9802', '9803', '9806', '9824', '9825', '9828', '9837', '9829', '9833', '9836', '9837', '9832', '9834', '9835', '9840', '9848', '9874', '9890', '9917', '9922', '9926', '9928', '9929', '9937', '9940', '9947', '9950', '9949', '9951', '9952', '9963', '9962', '9963', '9997', '10011', '10017', '10038', '10039', '10040', '10086', '10087', '10088', '10089', '10091', '10092', '10103', '10104', '10113', '10115', '10132', '10146', '10148', '10154', '10158', '10166', '10168', '10166', '10167', '10176', '10191', '10185', '10191', '10196', '10206', '10210', '10212', '10213', '10216', '10238', '10254', '10258', '10260', '10261', '10267', '10291', '10305', '10308', '10313', '10315', '10326', '10331', '10339', '10346', '10348', '10358', '10381', '10385', '10386', '10392', '10393', '10394', '10397', '10408', '10431', '10433', '10437', '10438', '10443', '10447', '10449', '10452', '10454', '10456', '10460', '10461', '10462', '10463', '10462', '10463', '10480', '10481', '10489', '10488', '10491', '10493', '10517', '10519', '10537', '10550', '10560', '10573', '10588', '10591', '10597', '10605', '10609', '10610', '10615', '10618', '10620', '10619', '10625', '10640', '10642', '10645', '10651', '10660', '10659', '10673', '10691', '10709', '10711', '10732', '10739', '10743', '10751', '10755', '10757', '10758', '10761', '10777', '10779', '10776', '10783', '10789', '10803', '10806', '10825', '10838', '10851', '10852', '10853', '10854', '10865', '10866', '10876', '10877', '10885', '10887', '10899', '10898', '10897', '10902', '10907', '10909', '10913', '10924', '10950', '10947', '10949', '10954', '10965', '10983']\n"
          ]
        }
      ]
    },
    {
      "cell_type": "markdown",
      "metadata": {
        "id": "oItQGeBBco9X"
      },
      "source": [
        "# Day 1"
      ]
    },
    {
      "cell_type": "markdown",
      "metadata": {
        "id": "CFZv7dZ8c1kN"
      },
      "source": [
        "## Part 1"
      ]
    },
    {
      "cell_type": "code",
      "metadata": {
        "colab": {
          "base_uri": "https://localhost:8080/"
        },
        "id": "OQISrQl43Wvl",
        "outputId": "fb7bbf3e-65a9-44a1-d2eb-091084245d95"
      },
      "source": [
        "z = b.split(sep=\"\\n\")\n",
        "z = list(map(int, z))\n",
        "count=0\n",
        "sum_b = z[0]\n",
        "for i in range(1,len(z)):\n",
        "  sum_a=z[i]\n",
        "  if(sum_b<sum_a):\n",
        "    count+=1\n",
        "  sum_b=sum_a\n",
        "print(count)"
      ],
      "execution_count": 13,
      "outputs": [
        {
          "output_type": "stream",
          "name": "stdout",
          "text": [
            "1832\n"
          ]
        }
      ]
    },
    {
      "cell_type": "markdown",
      "metadata": {
        "id": "x0ckj_C83trk"
      },
      "source": [
        "## Part 2"
      ]
    },
    {
      "cell_type": "code",
      "metadata": {
        "colab": {
          "base_uri": "https://localhost:8080/"
        },
        "id": "BkgBglAPgJDn",
        "outputId": "104606ac-4291-4253-bb64-3961360f9eb7"
      },
      "source": [
        "z = b.split(sep=\"\\n\")\n",
        "z = list(map(int, z))\n",
        "count=0\n",
        "sum_b = z[0]+z[1]+z[2]\n",
        "for i in range(1,len(z)-2):\n",
        "  sum_a=z[i]+z[i+1]+z[i+2]\n",
        "  if(sum_b<sum_a):\n",
        "    count+=1\n",
        "  sum_b=sum_a\n",
        "print(count)"
      ],
      "execution_count": 14,
      "outputs": [
        {
          "output_type": "stream",
          "name": "stdout",
          "text": [
            "1858\n"
          ]
        }
      ]
    },
    {
      "cell_type": "markdown",
      "metadata": {
        "id": "TssmW1P7c9q8"
      },
      "source": [
        "# Day 2"
      ]
    },
    {
      "cell_type": "markdown",
      "metadata": {
        "id": "36v3AfMIc_TU"
      },
      "source": [
        "## Part 1"
      ]
    },
    {
      "cell_type": "code",
      "metadata": {
        "colab": {
          "base_uri": "https://localhost:8080/"
        },
        "id": "wg3IyCnJdA3i",
        "outputId": "a9b9bd46-557e-41e1-b0dd-8d7e934dce00"
      },
      "source": [
        "z = [i.split(\" \") for i in b.split(\"\\n\")]\n",
        "horizontal, depth = 0, 0\n",
        "for i in z:\n",
        "  dist = int(i[1])\n",
        "  if i[0] == \"forward\":\n",
        "    horizontal += dist\n",
        "  else:\n",
        "    if i[0] == \"down\":\n",
        "      depth += dist\n",
        "    else:\n",
        "      depth -= dist\n",
        "horizontal*depth"
      ],
      "execution_count": 14,
      "outputs": [
        {
          "output_type": "execute_result",
          "data": {
            "text/plain": [
              "2150351"
            ]
          },
          "metadata": {},
          "execution_count": 14
        }
      ]
    },
    {
      "cell_type": "markdown",
      "metadata": {
        "id": "IG7jZnxydBJZ"
      },
      "source": [
        "## Part 2"
      ]
    },
    {
      "cell_type": "code",
      "metadata": {
        "colab": {
          "base_uri": "https://localhost:8080/"
        },
        "id": "u_mz4OoedC-g",
        "outputId": "ff2a6a47-1b5d-4382-a375-c0c8240a3f5f"
      },
      "source": [
        "z = [i.split(\" \") for i in a.split(\"\\n\")]\n",
        "horizontal, depth, aim = 0, 0, 0\n",
        "for i in z:\n",
        "  dist = int(i[1])\n",
        "  if i[0] == \"forward\":\n",
        "    horizontal += dist\n",
        "    depth += aim*dist\n",
        "  else:\n",
        "    if i[0] == \"down\":\n",
        "      aim += dist\n",
        "    else:\n",
        "      aim -= dist\n",
        "horizontal*depth"
      ],
      "execution_count": 16,
      "outputs": [
        {
          "output_type": "execute_result",
          "data": {
            "text/plain": [
              "900"
            ]
          },
          "metadata": {},
          "execution_count": 16
        }
      ]
    },
    {
      "cell_type": "markdown",
      "metadata": {
        "id": "1W94321WYqsP"
      },
      "source": [
        "# Day 3"
      ]
    },
    {
      "cell_type": "markdown",
      "metadata": {
        "id": "dHeXcZGEYsgz"
      },
      "source": [
        "## Part 1"
      ]
    },
    {
      "cell_type": "code",
      "metadata": {
        "colab": {
          "base_uri": "https://localhost:8080/"
        },
        "id": "hyjDoMU1YuBY",
        "outputId": "9321ef7c-570a-4bc7-ba7d-6da4df9c8ff5"
      },
      "source": [
        "df = pd.DataFrame([list(x) for x in b.split(sep=\"\\n\")])\n",
        "cols = df.shape[1]\n",
        "rows = df.shape[0]\n",
        "out =np.empty(shape=cols, dtype=np.int8)\n",
        "for i,col in enumerate(df.columns):\n",
        "  df[i] = df[i].astype(np.int8)\n",
        "  ones = df[col].sum()\n",
        "  zeros = rows - ones\n",
        "  if(ones>zeros):\n",
        "    out[i] = 1\n",
        "  else:\n",
        "    out[i] = 0\n",
        "out2 = [int(x) ^ 1 for x in out]\n",
        "out = bin(int(''.join(map(str, out)), 2) << 0)\n",
        "out2 = bin(int(''.join(map(str, out2)), 2) << 0)\n",
        "int(out,2)*int(out2,2)"
      ],
      "execution_count": 102,
      "outputs": [
        {
          "output_type": "execute_result",
          "data": {
            "text/plain": [
              "4006064"
            ]
          },
          "metadata": {},
          "execution_count": 102
        }
      ]
    },
    {
      "cell_type": "markdown",
      "metadata": {
        "id": "PjGxo7uGpP-v"
      },
      "source": [
        "## Part 2"
      ]
    },
    {
      "cell_type": "code",
      "metadata": {
        "colab": {
          "base_uri": "https://localhost:8080/"
        },
        "id": "VD9dxV5EpR_1",
        "outputId": "a0e676cc-83ab-4bc4-8dca-f6752871976a"
      },
      "source": [
        "df = pd.DataFrame([list(x) for x in b.split(sep=\"\\n\")]).astype(np.int8)\n",
        "rows = df.shape[0]\n",
        "ones = df[0].sum()\n",
        "zeros = rows - ones\n",
        "most_common = 1 if ones >= zeros else 0\n",
        "mask = df[0]==most_common\n",
        "n_df = df.copy()\n",
        "for i in df.columns[1:]:\n",
        "  n_df = n_df[mask].copy()\n",
        "  rows = n_df.shape[0]\n",
        "  if(rows == 1):\n",
        "    out = n_df.copy()\n",
        "  ones = n_df[i].sum()\n",
        "  zeros = rows - ones\n",
        "  most_common = 1 if ones >= zeros else 0\n",
        "  mask = n_df[i]==most_common\n",
        "o2 = n_df[mask]\n",
        "o2 = [o2.iloc[0][i] for i in range(len(o2.columns))]\n",
        "o2 = bin(int(''.join(map(str, o2)), 2) << 0)\n",
        "int(o2,2)"
      ],
      "execution_count": 174,
      "outputs": [
        {
          "output_type": "execute_result",
          "data": {
            "text/plain": [
              "1599"
            ]
          },
          "metadata": {},
          "execution_count": 174
        }
      ]
    },
    {
      "cell_type": "code",
      "metadata": {
        "colab": {
          "base_uri": "https://localhost:8080/"
        },
        "id": "wToSYNgcvnFo",
        "outputId": "60ec45af-992b-4c86-e87b-c8054ce9e196"
      },
      "source": [
        "df = pd.DataFrame([list(x) for x in b.split(sep=\"\\n\")]).astype(np.int8)\n",
        "rows = df.shape[0]\n",
        "ones = df[0].sum()\n",
        "zeros = rows - ones\n",
        "less_common = 1 if ones < zeros else 0\n",
        "mask = df[0]==less_common\n",
        "n_df = df.copy()\n",
        "out=pd.DataFrame()\n",
        "for i in df.columns[1:]:\n",
        "  n_df = n_df[mask].copy()\n",
        "  rows = n_df.shape[0]\n",
        "  if(rows == 1):\n",
        "    out = n_df.copy()\n",
        "    break\n",
        "  ones = n_df[i].sum()\n",
        "  zeros = rows - ones\n",
        "  less_common = 1 if ones < zeros else 0\n",
        "  mask = n_df[i]==less_common\n",
        "co2 = out if out.shape[0] != 0 else n_df[mask]\n",
        "co2 = [co2.iloc[0][i] for i in range(len(co2.columns))]\n",
        "co2 = bin(int(''.join(map(str, co2)), 2) << 0)\n",
        "int(co2,2)"
      ],
      "execution_count": 176,
      "outputs": [
        {
          "output_type": "execute_result",
          "data": {
            "text/plain": [
              "3716"
            ]
          },
          "metadata": {},
          "execution_count": 176
        }
      ]
    },
    {
      "cell_type": "code",
      "metadata": {
        "colab": {
          "base_uri": "https://localhost:8080/"
        },
        "id": "yBKeRah_w-jJ",
        "outputId": "561b5f40-e13f-49b3-8848-7fed3838fbd6"
      },
      "source": [
        "int(co2,2)*int(o2,2)"
      ],
      "execution_count": 177,
      "outputs": [
        {
          "output_type": "execute_result",
          "data": {
            "text/plain": [
              "5941884"
            ]
          },
          "metadata": {},
          "execution_count": 177
        }
      ]
    },
    {
      "cell_type": "markdown",
      "metadata": {
        "id": "NLBlaW3Z7xNL"
      },
      "source": [
        "# Day 4"
      ]
    },
    {
      "cell_type": "markdown",
      "metadata": {
        "id": "i7uaEIeF7zWj"
      },
      "source": [
        "## Part 1"
      ]
    },
    {
      "cell_type": "code",
      "metadata": {
        "colab": {
          "base_uri": "https://localhost:8080/"
        },
        "id": "NuWaOtv2aPvH",
        "outputId": "2e158fd8-5976-4074-b32b-442975b995d8"
      },
      "source": [
        "bingonums = b.split(sep=\"\\n\\n\")[0].split(\",\")\n",
        "ir = b.split(sep=\"\\n\\n\")[1:]\n",
        "dfs = []\n",
        "for i in ir:\n",
        "  dfs.append([x.split(sep=\" \") for x in i.split(sep=\"\\n\")])\n",
        "for i,df in enumerate(dfs):\n",
        "  for j,row in enumerate(df):\n",
        "    dfs[i][j] = [int(x) for x in row if x!= '']\n",
        "boards = []\n",
        "for i in dfs:\n",
        "  boards.append(pd.DataFrame(i))\n",
        "  \n",
        "won = False\n",
        "i_num = 0\n",
        "winner = None\n",
        "summ = -5 \n",
        "while (not won and i_num < len(bingonums)):\n",
        "  b_num = int(bingonums[i_num])\n",
        "  #check if b_num is in dfs\n",
        "  for b in boards:\n",
        "    for i in b.columns:\n",
        "        b.loc[b[i] == b_num, i] = -1\n",
        "  #check if someone won\n",
        "  for w,b in enumerate(boards):\n",
        "    if (summ in list(b.sum(axis=1))) or (summ in list(b.sum())):\n",
        "      winner = w\n",
        "      won = True\n",
        "      break\n",
        "  i_num+=1\n",
        "# sum of all unmarked numbers * b_num\n",
        "print(boards[winner].mul(boards[winner].gt(0)).sum().sum()*b_num)"
      ],
      "execution_count": 71,
      "outputs": [
        {
          "output_type": "stream",
          "name": "stdout",
          "text": [
            "74320\n"
          ]
        }
      ]
    },
    {
      "cell_type": "markdown",
      "metadata": {
        "id": "ZiPI2J8WlnOu"
      },
      "source": [
        "## Part 2"
      ]
    },
    {
      "cell_type": "code",
      "metadata": {
        "colab": {
          "base_uri": "https://localhost:8080/"
        },
        "id": "WsddZ2yKe4v6",
        "outputId": "8e5f8aa2-293b-493d-a1b9-61991e8391b6"
      },
      "source": [
        "bingonums = b.split(sep=\"\\n\\n\")[0].split(\",\")\n",
        "ir = b.split(sep=\"\\n\\n\")[1:]\n",
        "dfs = []\n",
        "for i in ir:\n",
        "  dfs.append([x.split(sep=\" \") for x in i.split(sep=\"\\n\")])\n",
        "for i,df in enumerate(dfs):\n",
        "  for j,row in enumerate(df):\n",
        "    dfs[i][j] = [int(x) for x in row if x!= '']\n",
        "boards = []\n",
        "for i in dfs:\n",
        "  boards.append(pd.DataFrame(i))\n",
        "  \n",
        "won = False\n",
        "i_num = 0\n",
        "winners = 0\n",
        "last=0\n",
        "summ = -5000\n",
        "while (winners != len(boards) and i_num < len(bingonums)):\n",
        "  winners = 0\n",
        "  b_num = int(bingonums[i_num])\n",
        "  #check if b_num is in dfs\n",
        "  for b in boards:\n",
        "    for i in b.columns:\n",
        "        b.loc[b[i] == b_num, i] = -1000\n",
        "  #check if one winner left\n",
        "  for w,b in enumerate(boards):\n",
        "    if (summ in list(b.sum(axis=1))) or (summ in list(b.sum())):\n",
        "      winners += 1\n",
        "    else:\n",
        "      last = w\n",
        "  i_num+=1\n",
        "# sum of all unmarked numbers * b_num\n",
        "print(boards[last].mul(boards[last].gt(0)).sum().sum()*b_num)"
      ],
      "execution_count": 106,
      "outputs": [
        {
          "output_type": "stream",
          "name": "stdout",
          "text": [
            "17884\n"
          ]
        }
      ]
    },
    {
      "cell_type": "markdown",
      "metadata": {
        "id": "q9HWILv3lr_r"
      },
      "source": [
        "# Day 5"
      ]
    },
    {
      "cell_type": "markdown",
      "metadata": {
        "id": "JZHg20dKltY-"
      },
      "source": [
        "## Part 1"
      ]
    },
    {
      "cell_type": "code",
      "metadata": {
        "colab": {
          "base_uri": "https://localhost:8080/"
        },
        "id": "62GXbEaglu8R",
        "outputId": "75d487a4-acdd-4de9-a8a0-5979dcd47b51"
      },
      "source": [
        "z = [x.split(sep = \" -> \") for x in b.split(sep = \"\\n\")]\n",
        "lines = [(x[0].split(\",\"),x[1].split(\",\")) for x in z]\n",
        "matrix = [ [ 0 for i in range(999) ] for j in range(999) ]\n",
        "for line in lines:\n",
        "  if(equalX(line)):\n",
        "    p(matrix,line)\n",
        "  if(equalY(line)):\n",
        "    p(matrix,line)\n",
        "df = pd.DataFrame(matrix)\n",
        "df.gt(1).sum().sum()"
      ],
      "execution_count": 5,
      "outputs": [
        {
          "output_type": "execute_result",
          "data": {
            "text/plain": [
              "5306"
            ]
          },
          "metadata": {},
          "execution_count": 5
        }
      ]
    },
    {
      "cell_type": "code",
      "metadata": {
        "id": "FYKq5Y_tpDTK"
      },
      "source": [
        "def getX(pos):\n",
        "  return int(pos[0])\n",
        "def getY(pos):\n",
        "  return int(pos[1])\n",
        "def equalX(line):\n",
        "  return line[0][0] == line[1][0]\n",
        "def equalY(line):\n",
        "  return line[0][1] == line[1][1]\n",
        "def getIni(line):\n",
        "  return line[0]\n",
        "def getEnd(line):\n",
        "  return line[1]\n",
        "def markY(matrix, line):\n",
        "  y = getX(getIni(line))\n",
        "  for i in range1(getY(getIni(line)),getY(getEnd(line))):\n",
        "    matrix[y][i] +=1\n",
        "def markX(matrix, line):\n",
        "  y = getY(getIni(line))\n",
        "  for i in range1(getX(getIni(line)),getX(getEnd(line))):\n",
        "    matrix[i][y] +=1\n",
        "def range1(start, end):\n",
        "  if(start<=end):\n",
        "    return range(start, end+1)\n",
        "  else:\n",
        "     return range(start,end-1,-1)\n",
        "def diagonal(matrix,line):\n",
        "  iniX = getX(getIni(line))\n",
        "  iniY = getY(getIni(line))\n",
        "  endX = getX(getEnd(line))\n",
        "  endY = getY(getEnd(line))\n",
        "  if abs(iniX-iniY) == abs(endX-endY):\n",
        "    return True\n",
        "  elif abs(iniX-endX) == abs(iniY-endY):\n",
        "    return True\n",
        "  \n",
        "  else:\n",
        "    return False\n",
        "def markDiagonal(matrix,line):\n",
        "  iniX = getX(getIni(line))\n",
        "  iniY = getY(getIni(line))\n",
        "  endX = getX(getEnd(line))\n",
        "  endY = getY(getEnd(line))\n",
        "  for i,j in zip(range1(iniX,endX),range1(iniY,endY)):\n",
        "    matrix[i][j] +=1\n",
        "def p(matrix,line):\n",
        "  x1, y1, x2, y2 = getX(getIni(line)), getY(getIni(line)), getX(getEnd(line)), getY(getEnd(line))\n",
        "  points = []\n",
        "  lx, ly = abs(x2 - x1), abs(y2 - y1)\n",
        "  l = max(lx, ly)\n",
        "  for i in range(l + 1):\n",
        "      x = x1 + round((x2 - x1) / l * i)\n",
        "      y = y1 + round((y2 - y1) / l * i)\n",
        "      matrix[x][y]+=1"
      ],
      "execution_count": 10,
      "outputs": []
    },
    {
      "cell_type": "markdown",
      "metadata": {
        "id": "VKitvFDflvYQ"
      },
      "source": [
        "## Part 2"
      ]
    },
    {
      "cell_type": "code",
      "metadata": {
        "colab": {
          "base_uri": "https://localhost:8080/"
        },
        "id": "W2Ey1ft0lxJG",
        "outputId": "fd2dc38c-92ba-42e4-aad6-cea4229d5ef0"
      },
      "source": [
        "z = [x.split(sep = \" -> \") for x in b.split(sep = \"\\n\")]\n",
        "lines = [(x[0].split(\",\"),x[1].split(\",\")) for x in z]\n",
        "matrix = [ [ 0 for i in range(999+1) ] for j in range(999+1) ]\n",
        "for line in lines:\n",
        "  if(diagonal(matrix,line)):\n",
        "    p(matrix,line)\n",
        "  elif(equalX(line)):\n",
        "    p(matrix,line)\n",
        "  elif(equalY(line)):\n",
        "    p(matrix,line)\n",
        "\n",
        "df = pd.DataFrame(matrix)\n",
        "df.gt(1).sum().sum()"
      ],
      "execution_count": 8,
      "outputs": [
        {
          "output_type": "execute_result",
          "data": {
            "text/plain": [
              "17787"
            ]
          },
          "metadata": {},
          "execution_count": 8
        }
      ]
    },
    {
      "cell_type": "markdown",
      "metadata": {
        "id": "n7sFEKPylxjE"
      },
      "source": [
        "# Day 6"
      ]
    },
    {
      "cell_type": "markdown",
      "metadata": {
        "id": "8Ly0QcEylyya"
      },
      "source": [
        "## Part 1 & 2"
      ]
    },
    {
      "cell_type": "code",
      "metadata": {
        "colab": {
          "base_uri": "https://localhost:8080/"
        },
        "id": "FsxgebT5l0Pm",
        "outputId": "8ca48a63-9583-4204-bd4e-145406919d2b"
      },
      "source": [
        "today = Counter([int(x) for x in b.split(sep=\",\")])\n",
        "days = 256\n",
        "new_d = Counter()\n",
        "for i in range(days):\n",
        "  #print(\"\\n\",i)\n",
        "  #pr(today)\n",
        "  #print(sum(list(today.values())))\n",
        "\n",
        "  for j in sorted(today.keys(),reverse=True):\n",
        "    f = today.get(j,0)\n",
        "    if(j==0):\n",
        "      new_d[8]+=f\n",
        "      new_d[6]+=f\n",
        "      new_d[0]=today.get(j+1,0)\n",
        "    else:\n",
        "      new_d[j-1]=f\n",
        "      new_d[j]=today.get(j+1,0)\n",
        "  today=new_d.copy()\n",
        "#pr(today)\n",
        "sum(list(today.values()))"
      ],
      "execution_count": 92,
      "outputs": [
        {
          "output_type": "execute_result",
          "data": {
            "text/plain": [
              "1721148811504"
            ]
          },
          "metadata": {},
          "execution_count": 92
        }
      ]
    },
    {
      "cell_type": "code",
      "metadata": {
        "colab": {
          "base_uri": "https://localhost:8080/"
        },
        "id": "PwChKk9Vl2ML",
        "outputId": "76f1d5b5-fb61-4e30-91ad-6efc9b4ddc87"
      },
      "source": [
        "def pr(today):\n",
        "  for a in sorted(today.keys(), reverse=True):\n",
        "    print(a,today[a],end=\" , \", sep=\":\")\n"
      ],
      "execution_count": 83,
      "outputs": [
        {
          "output_type": "execute_result",
          "data": {
            "text/plain": [
              "29"
            ]
          },
          "metadata": {},
          "execution_count": 83
        }
      ]
    },
    {
      "cell_type": "markdown",
      "metadata": {
        "id": "TPAtOnNzKecS"
      },
      "source": [
        "# Day 7"
      ]
    },
    {
      "cell_type": "markdown",
      "metadata": {
        "id": "l7CrTRi-Kgj5"
      },
      "source": [
        "## Part 1 & 2"
      ]
    },
    {
      "cell_type": "code",
      "metadata": {
        "colab": {
          "base_uri": "https://localhost:8080/"
        },
        "id": "LzZHivvRKiOK",
        "outputId": "71ced488-57a1-4fb9-c792-8dcab8398a9d"
      },
      "source": [
        "z = [int(x) for x in b.split(\",\")]\n",
        "df = pd.DataFrame(z)\n",
        "print(round(np.abs(df[0]-df[0].median()).sum()))\n",
        "df[\"diff\"] = np.abs(df[0]-round(df[0].mean()-1))\n",
        "df[\"a\"] = (df[\"diff\"]+df[\"diff\"]**2)/2\n",
        "print(round(df[\"a\"].sum()))"
      ],
      "execution_count": 162,
      "outputs": [
        {
          "output_type": "stream",
          "name": "stdout",
          "text": [
            "336701\n",
            "95167302\n"
          ]
        }
      ]
    },
    {
      "cell_type": "markdown",
      "metadata": {
        "id": "X3LtCnjFpP37"
      },
      "source": [
        "# Day 8"
      ]
    },
    {
      "cell_type": "markdown",
      "metadata": {
        "id": "3IvEakPNpRfs"
      },
      "source": [
        "## Part 1"
      ]
    },
    {
      "cell_type": "code",
      "metadata": {
        "id": "pCNL1-L-pS4r"
      },
      "source": [
        "z = a.split(\"\\n\")\n",
        "inp, out = a.split(\"|\")[0], a.split(\"|\")[1]\n",
        "inp, out = inp.split(\" \"), out.split(\" \")\n",
        "[len(x) for x in out]"
      ],
      "execution_count": null,
      "outputs": []
    },
    {
      "cell_type": "code",
      "metadata": {
        "colab": {
          "base_uri": "https://localhost:8080/"
        },
        "id": "MOnP2jOepxyl",
        "outputId": "4027c3c4-df63-48a1-e958-363a85b4a627"
      },
      "source": [
        "z = b.split(\"\\n\")\n",
        "inp, out = [], []\n",
        "for i in range(0,len(z),1):\n",
        "  s = z[i].split(\" | \")\n",
        "  inp.append(s[0])\n",
        "  out.append(s[1])\n",
        "count = 0\n",
        "for i,x in enumerate(out):\n",
        "  c = x.split(\" \")\n",
        "  for j in c:\n",
        "    #print(i,len(i))\n",
        "    if(len(j) in (2,3,4,7) ):\n",
        "      count+=1\n",
        "print(count)"
      ],
      "execution_count": 5,
      "outputs": [
        {
          "output_type": "stream",
          "name": "stdout",
          "text": [
            "383\n"
          ]
        }
      ]
    },
    {
      "cell_type": "markdown",
      "metadata": {
        "id": "7T1UqiP71yeR"
      },
      "source": [
        "## Part 2"
      ]
    },
    {
      "cell_type": "code",
      "metadata": {
        "colab": {
          "base_uri": "https://localhost:8080/"
        },
        "id": "JokIq8oMtxy7",
        "outputId": "e335f6f9-82ec-4426-9e34-379b06c954a0"
      },
      "source": [
        "z = b.split(\"\\n\")\n",
        "inp, out = [], []\n",
        "for i in range(0,len(z)):\n",
        "  s = z[i].split(\" | \")\n",
        "  inp.append(s[0])\n",
        "  out.append(s[1])\n",
        "# for i in range(0,len(z),2):\n",
        "#   inp.append(z[i].replace(\" |\",\"\"))\n",
        "#   out.append(z[i+1])\n",
        "count = 0\n",
        "for i,x in enumerate(inp):\n",
        "  lens, numbers = createCounter(x.split(\" \"))\n",
        "  #get 6\n",
        "  for iq in lens[6]:\n",
        "    matched_list = [characters in iq for characters in lens[2][0]]\n",
        "    if(not all(matched_list)):\n",
        "      numbers[iq] = 6\n",
        "  #get 5\n",
        "  for iq in lens[5]:\n",
        "    n6 = getNumber(numbers,6)\n",
        "    if(len(set(n6)-set(iq))==1):\n",
        "      numbers[iq] =5\n",
        "  #get 3 and 2\n",
        "  for iq in lens[5]:\n",
        "    n5 = getNumber(numbers, 5)\n",
        "    if(len(set(n5)-set(iq))==1):\n",
        "      numbers[iq] =3\n",
        "    elif(len(set(n5)-set(iq))==2):\n",
        "      numbers[iq] =2\n",
        "  #get 9 and 0\n",
        "  for iq in lens[6]:\n",
        "    n5 = getNumber(numbers, 5)\n",
        "    n6 = getNumber(numbers, 6)\n",
        "    if(iq!=n6):\n",
        "      if(len(set(iq)-set(n5))==1):\n",
        "        numbers[iq] =9\n",
        "      elif(len(set(iq)-set(n5))==2):\n",
        "        numbers[iq] =0\n",
        "  ff = out[i].split(\" \")\n",
        "  count+=getValue(numbers,ff[0])*1000\n",
        "  count+=getValue(numbers,ff[1])*100\n",
        "  count+=getValue(numbers,ff[2])*10\n",
        "  count+=getValue(numbers,ff[3])*1\n",
        "count"
      ],
      "execution_count": 170,
      "outputs": [
        {
          "output_type": "execute_result",
          "data": {
            "text/plain": [
              "998900"
            ]
          },
          "metadata": {},
          "execution_count": 170
        }
      ]
    },
    {
      "cell_type": "code",
      "metadata": {
        "id": "rAvVwn3w10kR"
      },
      "source": [
        "def getValue(dic, key):\n",
        "  for i in dic.keys():\n",
        "    if(len(i)==len(key) and len(set(i)-set(key))==0):\n",
        "      return dic[i]\n",
        "def getNumber(dic,n):\n",
        "  for i in dic.keys():\n",
        "    if(dic[i]==n):\n",
        "      return i\n",
        "def findbylen(l, le):\n",
        "  out = []\n",
        "  for i in l:\n",
        "    if(len(i)==le):\n",
        "      out.append(i)\n",
        "  return out\n",
        "\n",
        "def createCounter(l):\n",
        "  c = {2:[],3:[],4:[],5:[],6:[],7:[]}\n",
        "  numbers = {}\n",
        "  for i in l:\n",
        "    d = len(i)\n",
        "    c[d].append(i)\n",
        "    if(d==2):\n",
        "      numbers[i]=1\n",
        "    elif(d==3):\n",
        "      numbers[i]=7\n",
        "    elif(d==7):\n",
        "      numbers[i]=8\n",
        "    elif(d==4):\n",
        "      numbers[i]=4\n",
        "  return c,numbers"
      ],
      "execution_count": 161,
      "outputs": []
    }
  ]
}